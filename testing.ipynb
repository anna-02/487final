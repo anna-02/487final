{
 "cells": [
  {
   "cell_type": "code",
   "execution_count": 19,
   "metadata": {},
   "outputs": [
    {
     "name": "stdout",
     "output_type": "stream",
     "text": [
      "this is our final project\n"
     ]
    }
   ],
   "source": [
    "from mpl_toolkits.mplot3d import Axes3D\n",
    "from sklearn.preprocessing import StandardScaler\n",
    "import matplotlib.pyplot as plt  # plotting\n",
    "import numpy as np  # linear algebra\n",
    "import os  # accessing directory structure\n",
    "import pandas as pd  # data processing, CSV file I/O (e.g. pd.read_csv)\n",
    "\n",
    "print(\"this is our final project\")"
   ]
  },
  {
   "cell_type": "code",
   "execution_count": null,
   "metadata": {},
   "outputs": [],
   "source": [
    "for dirname, _, filenames in os.walk('/'):\n",
    "    for filename in filenames:\n",
    "        print(os.path.join(dirname, filename))\n"
   ]
  },
  {
   "cell_type": "code",
   "execution_count": 26,
   "metadata": {},
   "outputs": [
    {
     "name": "stdout",
     "output_type": "stream",
     "text": [
      "There are 1000 rows and 3 columns\n"
     ]
    }
   ],
   "source": [
    "nRowsRead = 1000  # specify 'None' if want to read whole file\n",
    "# test-balanced.csv has 32333 rows in reality, but we are only loading/previewing the first 1000 rows\n",
    "df1 = pd.read_csv('test-balanced.csv',\n",
    "                  delimiter=',', nrows=nRowsRead)\n",
    "df1.dataframeName = 'test-balanced.csv'\n",
    "nRow, nCol = df1.shape\n",
    "print(f'There are {nRow} rows and {nCol} columns')\n"
   ]
  },
  {
   "cell_type": "code",
   "execution_count": 25,
   "metadata": {},
   "outputs": [
    {
     "name": "stdout",
     "output_type": "stream",
     "text": [
      "There are 1000 rows and 3 columns\n"
     ]
    }
   ],
   "source": [
    "nRowsRead = 1000  # specify 'None' if want to read whole file\n",
    "# test-unbalanced.csv has 63997 rows in reality, but we are only loading/previewing the first 1000 rows\n",
    "df2 = pd.read_csv('test-unbalanced.csv',\n",
    "                  delimiter=',', nrows=nRowsRead)\n",
    "df2.dataframeName = 'test-unbalanced.csv'\n",
    "nRow, nCol = df2.shape\n",
    "print(f'There are {nRow} rows and {nCol} columns')\n"
   ]
  },
  {
   "cell_type": "code",
   "execution_count": 24,
   "metadata": {},
   "outputs": [
    {
     "name": "stdout",
     "output_type": "stream",
     "text": [
      "There are 1000 rows and 10 columns\n"
     ]
    }
   ],
   "source": [
    "nRowsRead = 1000  # specify 'None' if want to read whole file\n",
    "# train-balanced-sarcasm.csv has 1010826 rows in reality, but we are only loading/previewing the first 1000 rows\n",
    "df3 = pd.read_csv('train-balanced-sarcasm.csv',\n",
    "                  delimiter=',', nrows=nRowsRead)\n",
    "df3.dataframeName = 'train-balanced-sarcasm.csv'\n",
    "nRow, nCol = df3.shape\n",
    "print(f'There are {nRow} rows and {nCol} columns')\n"
   ]
  }
 ],
 "metadata": {
  "interpreter": {
   "hash": "6aaccf985712f3365a0665cd97e1d700c84dd895d6e91bdf4f720763f515c96a"
  },
  "kernelspec": {
   "display_name": "Python 3.9.7 ('eecs487')",
   "language": "python",
   "name": "python3"
  },
  "language_info": {
   "codemirror_mode": {
    "name": "ipython",
    "version": 3
   },
   "file_extension": ".py",
   "mimetype": "text/x-python",
   "name": "python",
   "nbconvert_exporter": "python",
   "pygments_lexer": "ipython3",
   "version": "3.9.7"
  },
  "orig_nbformat": 4
 },
 "nbformat": 4,
 "nbformat_minor": 2
}
